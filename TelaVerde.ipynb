{
 "cells": [
  {
   "cell_type": "code",
   "execution_count": 14,
   "metadata": {
    "collapsed": true,
    "pycharm": {
     "name": "#%%\n"
    }
   },
   "outputs": [],
   "source": [
    "import cv2\n",
    "import numpy as np\n",
    "import matplotlib.pyplot as plt"
   ]
  },
  {
   "cell_type": "code",
   "execution_count": 15,
   "outputs": [
    {
     "name": "stdout",
     "output_type": "stream",
     "text": [
      "4.7.0\n"
     ]
    }
   ],
   "source": [
    "print(cv2.__version__)"
   ],
   "metadata": {
    "collapsed": false,
    "pycharm": {
     "name": "#%%\n"
    }
   }
  },
  {
   "cell_type": "code",
   "execution_count": 16,
   "outputs": [],
   "source": [
    "def PosImagens(img_entrada, img_saida, limiar):\n",
    "    # Destaca a figura principal\n",
    "    background_cinza = cv2.imread(img_entrada, cv2.IMREAD_GRAYSCALE)\n",
    "    imagem = cv2.imread(img_entrada)\n",
    "\n",
    "    largura = imagem.shape[1]\n",
    "    altura = imagem.shape[0]\n",
    "    dim = (largura, altura)\n",
    "    novo_background = cv2.resize(background_cinza, dim, interpolation = cv2.INTER_AREA)\n",
    "\n",
    "    img_copia = imagem.copy()\n",
    "    img_copia = img_copia.astype(np.float32) / 255\n",
    "\n",
    "    iterador = 0\n",
    "    for linha in img_copia:\n",
    "        coluna_iterador = 0\n",
    "        for coluna in linha:\n",
    "            if coluna[0] > limiar and coluna[1] > limiar and coluna[2] > limiar:\n",
    "                img_copia[iterador][coluna_iterador] = novo_background[iterador][coluna_iterador]\n",
    "            coluna_iterador += 1\n",
    "        iterador += 1\n",
    "\n",
    "    output = cv2.imwrite(img_saida, img_copia)\n",
    "\n",
    "    return output"
   ],
   "metadata": {
    "collapsed": false,
    "pycharm": {
     "name": "#%%\n"
    }
   }
  },
  {
   "cell_type": "code",
   "execution_count": 69,
   "outputs": [],
   "source": [
    "def TelaVerde(img_entrada, img_edicao, img_saida):\n",
    "\n",
    "   img_fundo = cv2.imread(img_edicao)\n",
    "   img = cv2.imread(img_entrada)\n",
    "\n",
    "   img_fundo = cv2.resize(img_fundo, (img.shape[1], img.shape[0]))\n",
    "\n",
    "   lower_green = np.array([0, 180, 0])\n",
    "   upper_green = np.array([255, 255, 255])\n",
    "\n",
    "   mascara = cv2.inRange(img, lower_green, upper_green)\n",
    "\n",
    "   img_fundo_mascarada = cv2.bitwise_and(img, img, mask=mascara)\n",
    "   f = img - img_fundo_mascarada\n",
    "   f = np.where(f == 0, img_fundo, f)\n",
    "\n",
    "   output = cv2.imwrite(img_saida, f)\n",
    "\n",
    "   return output"
   ],
   "metadata": {
    "collapsed": false,
    "pycharm": {
     "name": "#%%\n"
    }
   }
  },
  {
   "cell_type": "code",
   "execution_count": 70,
   "outputs": [
    {
     "data": {
      "text/plain": "True"
     },
     "execution_count": 70,
     "metadata": {},
     "output_type": "execute_result"
    }
   ],
   "source": [
    "# Testando TelaVerde\n",
    "TelaVerde(\"./corvo.bmp\", \"./The Motivation is Real.jpg\", \"./corvoTelaVerde.bmp\")\n",
    "TelaVerde(\"./rainha.bmp\", \"./The Motivation is Real.jpg\", \"./rainhaTelaVerde.bmp\")"
   ],
   "metadata": {
    "collapsed": false,
    "pycharm": {
     "name": "#%%\n"
    }
   }
  }
 ],
 "metadata": {
  "kernelspec": {
   "display_name": "Python 3",
   "language": "python",
   "name": "python3"
  },
  "language_info": {
   "codemirror_mode": {
    "name": "ipython",
    "version": 2
   },
   "file_extension": ".py",
   "mimetype": "text/x-python",
   "name": "python",
   "nbconvert_exporter": "python",
   "pygments_lexer": "ipython2",
   "version": "2.7.6"
  }
 },
 "nbformat": 4,
 "nbformat_minor": 0
}